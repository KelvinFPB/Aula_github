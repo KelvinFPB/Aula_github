{
  "nbformat": 4,
  "nbformat_minor": 0,
  "metadata": {
    "colab": {
      "provenance": [],
      "authorship_tag": "ABX9TyMVUfaFG+35BEo92XWPz2OS",
      "include_colab_link": true
    },
    "kernelspec": {
      "name": "python3",
      "display_name": "Python 3"
    },
    "language_info": {
      "name": "python"
    }
  },
  "cells": [
    {
      "cell_type": "markdown",
      "metadata": {
        "id": "view-in-github",
        "colab_type": "text"
      },
      "source": [
        "<a href=\"https://colab.research.google.com/github/KelvinFPB/Aula_github/blob/main/Untitled0.ipynb\" target=\"_parent\"><img src=\"https://colab.research.google.com/assets/colab-badge.svg\" alt=\"Open In Colab\"/></a>"
      ]
    },
    {
      "cell_type": "markdown",
      "source": [],
      "metadata": {
        "id": "cLIAIJCFr_iK"
      }
    },
    {
      "cell_type": "code",
      "execution_count": 2,
      "metadata": {
        "colab": {
          "base_uri": "https://localhost:8080/"
        },
        "id": "E8atdWhJrfp_",
        "outputId": "cbc9bc3e-3558-47a4-e91b-7465c7e3840b"
      },
      "outputs": [
        {
          "output_type": "stream",
          "name": "stdout",
          "text": [
            "Hello world\n"
          ]
        }
      ],
      "source": [
        "print(\"Hello world\")"
      ]
    },
    {
      "cell_type": "code",
      "source": [
        "nota1 = 8\n",
        "nota2 = 6\n",
        "media = (nota1 +nota2)/2\n",
        "print(media)"
      ],
      "metadata": {
        "colab": {
          "base_uri": "https://localhost:8080/"
        },
        "id": "gs74LIYGskkB",
        "outputId": "4d3179dd-c849-4686-b270-2610aae06e6d"
      },
      "execution_count": 7,
      "outputs": [
        {
          "output_type": "stream",
          "name": "stdout",
          "text": [
            "7.0\n"
          ]
        }
      ]
    },
    {
      "cell_type": "code",
      "source": [
        "nota3 = float(input('Digite a nota3 '))\n",
        "nota4 = float(input('digite a nota4 '))\n",
        "media = (nota3 + nota4)/2\n",
        "print(media)"
      ],
      "metadata": {
        "colab": {
          "base_uri": "https://localhost:8080/"
        },
        "id": "Id-LruE9tL7h",
        "outputId": "eed03fd6-24d7-4a13-d712-3ce19d825b5e"
      },
      "execution_count": 9,
      "outputs": [
        {
          "output_type": "stream",
          "name": "stdout",
          "text": [
            "Digite a nota3 5\n",
            "digite a nota4 7\n",
            "6.0\n"
          ]
        }
      ]
    },
    {
      "cell_type": "code",
      "source": [
        "# codigo simples\n",
        "nome = 'kelvin'\n",
        "print(nome)"
      ],
      "metadata": {
        "colab": {
          "base_uri": "https://localhost:8080/"
        },
        "id": "MozKHiffsUCS",
        "outputId": "8b28deff-e0b1-4ea6-a361-a2729aa5b384"
      },
      "execution_count": 4,
      "outputs": [
        {
          "output_type": "stream",
          "name": "stdout",
          "text": [
            "kelvin\n"
          ]
        }
      ]
    },
    {
      "cell_type": "markdown",
      "source": [
        "#Lista"
      ],
      "metadata": {
        "id": "Un8je_k8t5gh"
      }
    },
    {
      "cell_type": "code",
      "source": [
        "frutas = ['maça', 'laranja', 'uva']\n",
        "numeros = [3, 5, 6, 2, 7]\n",
        "mista = [1, 'olá', True, 3, 77.8]\n",
        "\n",
        "print(frutas)\n",
        "print(numeros)\n",
        "print(mista)"
      ],
      "metadata": {
        "colab": {
          "base_uri": "https://localhost:8080/"
        },
        "id": "G6QerOivuAd0",
        "outputId": "6a9695ef-ff4c-4f72-ec25-8c08977d3783"
      },
      "execution_count": 15,
      "outputs": [
        {
          "output_type": "stream",
          "name": "stdout",
          "text": [
            "['maça', 'laranja', 'uva']\n",
            "[3, 5, 6, 2, 7]\n",
            "[1, 'olá', True, 3, 77.8]\n"
          ]
        }
      ]
    },
    {
      "cell_type": "markdown",
      "source": [
        "#Acessar elementos\n"
      ],
      "metadata": {
        "id": "u13de4UsvBtA"
      }
    },
    {
      "cell_type": "code",
      "source": [
        "Lista = [5, 8, 9, 17, 1, 3]\n",
        "\n",
        "print(Lista[1])\n",
        "print(Lista[0])\n"
      ],
      "metadata": {
        "colab": {
          "base_uri": "https://localhost:8080/"
        },
        "id": "1LqntxS4vFfo",
        "outputId": "714ae854-6565-4e51-e01b-90fda333ed38"
      },
      "execution_count": 21,
      "outputs": [
        {
          "output_type": "stream",
          "name": "stdout",
          "text": [
            "8\n",
            "5\n",
            "3\n",
            "17\n"
          ]
        }
      ]
    },
    {
      "cell_type": "code",
      "source": [
        "#Modificar elementos da lista\n",
        "\n",
        "lista = [5, 8, 9, 17, 1, 3]\n",
        "lista[2] = 250\n",
        "\n",
        "print(lista)"
      ],
      "metadata": {
        "colab": {
          "base_uri": "https://localhost:8080/"
        },
        "id": "zI0MVToiwSnw",
        "outputId": "87f70465-cf71-4545-d05b-a9686e07dbb3"
      },
      "execution_count": 24,
      "outputs": [
        {
          "output_type": "stream",
          "name": "stdout",
          "text": [
            "[5, 8, 250, 17, 1, 3]\n"
          ]
        }
      ]
    },
    {
      "cell_type": "code",
      "source": [
        "#Adicionar elementos\n",
        "lista = [1, 2]\n",
        "\n",
        "\n",
        "#append() adicina um elemento no final da lista\n",
        "lista.append(3)\n",
        "print(lista)\n",
        "\n",
        "#insert() inserir em uma posição específica\n",
        "lista.insert(1, 9)\n",
        "\n",
        "print(lista)"
      ],
      "metadata": {
        "colab": {
          "base_uri": "https://localhost:8080/"
        },
        "id": "up8Jmwbcw6Pp",
        "outputId": "6ec712c8-b2d3-46bd-c55e-774654154adb"
      },
      "execution_count": 26,
      "outputs": [
        {
          "output_type": "stream",
          "name": "stdout",
          "text": [
            "[1, 2, 3]\n",
            "[1, 9, 2, 3]\n"
          ]
        }
      ]
    },
    {
      "cell_type": "code",
      "source": [
        "#Remover elementos\n",
        "nomes = ['André,' 'Ana', 'Josefa', 'Bento', 'Leandro']\n",
        "\n",
        "#pelo valor\n",
        "nomes.remove('Josefa')\n",
        "print(nomes)\n",
        "#pelo indice\n",
        "nomes.pop(0)\n",
        "print(nomes)\n",
        "#pelo ultimo valor\n",
        "nomes.pop()\n",
        "print(nomes)"
      ],
      "metadata": {
        "colab": {
          "base_uri": "https://localhost:8080/"
        },
        "id": "T-yI8TSAyMnv",
        "outputId": "20915cb0-15fd-4626-fbbe-1b08a93cf191"
      },
      "execution_count": 29,
      "outputs": [
        {
          "output_type": "stream",
          "name": "stdout",
          "text": [
            "['André,Ana', 'Bento', 'Leandro']\n",
            "['Bento', 'Leandro']\n",
            "['Bento']\n"
          ]
        }
      ]
    },
    {
      "cell_type": "code",
      "source": [
        "#fatiamento\n",
        "\n",
        "lista = [0, 1, 2, 3, 4, 5, 6, 7, 8, 9]\n",
        "\n",
        "\n",
        "# Sintaxe: lista [inicio:fim:passo]\n",
        "print(lista[:5])\n",
        "print(lista[6:])\n",
        "print(lista[3:9])\n",
        "print(lista[::2])\n",
        "print(lista[::-1])\n"
      ],
      "metadata": {
        "colab": {
          "base_uri": "https://localhost:8080/"
        },
        "id": "IT8JOPYYz4LX",
        "outputId": "82413d34-949d-49b0-88dc-65dc47dab711"
      },
      "execution_count": 36,
      "outputs": [
        {
          "output_type": "stream",
          "name": "stdout",
          "text": [
            "[0, 1, 2, 3, 4]\n",
            "[6, 7, 8, 9]\n",
            "[3, 4, 5, 6, 7, 8]\n",
            "[0, 2, 4, 6, 8]\n",
            "[9, 8, 7, 6, 5, 4, 3, 2, 1, 0]\n"
          ]
        }
      ]
    },
    {
      "cell_type": "code",
      "source": [
        "#Funções úteis\n",
        "\n",
        "lista = [4, 7, 6, 11, 2, 0]\n",
        "\n",
        "#Tamanho da lista\n",
        "print(len(lista))\n",
        "\n",
        "#Maior e o menor valor da lista\n",
        "print(max(lista))\n",
        "print(min(lista))\n",
        "\n",
        "#Soma dos elementos\n",
        "print(sum(lista))\n",
        "\n",
        "#ordenação\n",
        "print(sorted(lista))\n",
        "#Alterar a ordeneção da lista original\n",
        "lista.sort()\n",
        "print(lista)\n"
      ],
      "metadata": {
        "colab": {
          "base_uri": "https://localhost:8080/"
        },
        "id": "HoQi-G9L2xnZ",
        "outputId": "d1aa5cce-d4e2-426d-dae9-00e29070cdc5"
      },
      "execution_count": 38,
      "outputs": [
        {
          "output_type": "stream",
          "name": "stdout",
          "text": [
            "6\n",
            "11\n",
            "0\n",
            "30\n",
            "[0, 2, 4, 6, 7, 11]\n",
            "[0, 2, 4, 6, 7, 11]\n"
          ]
        }
      ]
    },
    {
      "cell_type": "code",
      "source": [
        "#Laços em Listas\n",
        "\n",
        "compras = ['ovo', 'manteiga', 'café', 'pão', 'laranja']\n",
        "\n",
        "\n",
        "for item in compras:\n",
        "  print(item)\n",
        "\n",
        "for indice, item in enumerate(compras):\n",
        "  print (f'{indice} - {item}')"
      ],
      "metadata": {
        "colab": {
          "base_uri": "https://localhost:8080/"
        },
        "id": "iKJO8wA85zmB",
        "outputId": "7cc3caaa-6c84-4093-d828-70e2e8b755cc"
      },
      "execution_count": 42,
      "outputs": [
        {
          "output_type": "stream",
          "name": "stdout",
          "text": [
            "ovo\n",
            "manteiga\n",
            "café\n",
            "pão\n",
            "laranja\n",
            "0 - ovo\n",
            "1 - manteiga\n",
            "2 - café\n",
            "3 - pão\n",
            "4 - laranja\n"
          ]
        }
      ]
    },
    {
      "cell_type": "code",
      "source": [],
      "metadata": {
        "id": "tMGnAWYG6OOs"
      },
      "execution_count": 42,
      "outputs": []
    },
    {
      "cell_type": "code",
      "source": [
        "#Filtrar elementos com FOR\n",
        "\n",
        "for item in compras:\n",
        "  if 'a' in item:\n",
        "    print(f'{item} contém a letra a')"
      ],
      "metadata": {
        "colab": {
          "base_uri": "https://localhost:8080/"
        },
        "id": "3HCSEX3i8CJL",
        "outputId": "9e4d8c3f-1da2-46b9-e99c-8b0ebfe07cd1"
      },
      "execution_count": 43,
      "outputs": [
        {
          "output_type": "stream",
          "name": "stdout",
          "text": [
            "manteiga contém a letra a\n",
            "café contém a letra a\n",
            "laranja contém a letra a\n"
          ]
        }
      ]
    },
    {
      "cell_type": "markdown",
      "source": [
        "## Strings\n",
        "- strings são listas de caracteres\n",
        "- as funções utilizadas em listas, podem ser utilizadas para strings."
      ],
      "metadata": {
        "id": "nE5R1hAi9hhF"
      }
    },
    {
      "cell_type": "code",
      "source": [
        "nome = 'Kelvin'\n",
        "sobrenome = 'Parente'\n",
        "print(nome, sobrenome)\n",
        "print(nome+sobrenome)\n",
        "print(f'{nome}   {sobrenome}')"
      ],
      "metadata": {
        "colab": {
          "base_uri": "https://localhost:8080/"
        },
        "id": "Ief_45u991nZ",
        "outputId": "013b7de5-abdc-4bce-8f0b-bb1ad61f1faf"
      },
      "execution_count": 47,
      "outputs": [
        {
          "output_type": "stream",
          "name": "stdout",
          "text": [
            "Kelvin Parente\n",
            "KelvinParente\n",
            "Kelvin   Parente\n"
          ]
        }
      ]
    },
    {
      "cell_type": "code",
      "source": [
        "#acessar caracteres\n",
        "texto = 'Python'\n",
        "print(texto[0])\n",
        "\n",
        "for letra in texto:\n",
        "  print(letra)"
      ],
      "metadata": {
        "colab": {
          "base_uri": "https://localhost:8080/"
        },
        "id": "pgWNdx22_IRu",
        "outputId": "fc9a4471-1699-4870-fb5a-70a6a73b34ad"
      },
      "execution_count": 48,
      "outputs": [
        {
          "output_type": "stream",
          "name": "stdout",
          "text": [
            "P\n",
            "P\n",
            "y\n",
            "t\n",
            "h\n",
            "o\n",
            "n\n"
          ]
        }
      ]
    },
    {
      "cell_type": "code",
      "source": [
        "#Fatiamento de string (slicing)\n",
        "texto = 'Estou aprendendo a programar em Python'\n",
        "print(texto[2:5])\n",
        "print(texto[4:])\n",
        "print(texto[::2])\n"
      ],
      "metadata": {
        "colab": {
          "base_uri": "https://localhost:8080/"
        },
        "id": "rV855eJy_fSX",
        "outputId": "e3ddcbbc-aea6-45f2-8d7e-4dc4d8f0deb7"
      },
      "execution_count": 49,
      "outputs": [
        {
          "output_type": "stream",
          "name": "stdout",
          "text": [
            "tou\n",
            "u aprendendo a programar em Python\n",
            "Etuarned  rgaa mPto\n"
          ]
        }
      ]
    },
    {
      "cell_type": "code",
      "source": [
        "#Métodos comuns\n",
        "print(texto.strip()) #remover espaços\n",
        "\n",
        "#Converter em maiusculas e minusculas\n",
        "print(texto.upper())\n",
        "print(texto.lower())\n"
      ],
      "metadata": {
        "colab": {
          "base_uri": "https://localhost:8080/"
        },
        "id": "-nKWZn4kASjo",
        "outputId": "111c5e1f-45fa-4b09-a540-6e26e9ad14f5"
      },
      "execution_count": 50,
      "outputs": [
        {
          "output_type": "stream",
          "name": "stdout",
          "text": [
            "Estou aprendendo a programar em Python\n",
            "ESTOU APRENDENDO A PROGRAMAR EM PYTHON\n",
            "estou aprendendo a programar em python\n"
          ]
        }
      ]
    }
  ]
}